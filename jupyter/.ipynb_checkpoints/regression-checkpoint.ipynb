{
 "cells": [
  {
   "cell_type": "code",
   "execution_count": 1,
   "metadata": {},
   "outputs": [],
   "source": [
    "from sklearn.linear_model import LinearRegression\n",
    "from sklearn.model_selection import train_test_split\n",
    "from sklearn.metrics import mean_squared_error, r2_score\n",
    "import numpy as np\n",
    "import requests\n",
    "import json\n",
    "import matplotlib.pyplot as plt\n",
    "import datetime as dt\n",
    "import dateutil"
   ]
  },
  {
   "cell_type": "code",
   "execution_count": 16,
   "metadata": {},
   "outputs": [],
   "source": [
    "# test api starting at the year 2000\n",
    "test_url='https://www.quandl.com/api/v3/datatables/ZILLOW/DATA?indicator_id=Z1BR&region_id=86675&api_key=74g3zUso-i7jUjwzzsgh'\n",
    "response=requests.get(test_url).json()\n"
   ]
  },
  {
   "cell_type": "code",
   "execution_count": 17,
   "metadata": {},
   "outputs": [],
   "source": [
    "# grabbing the data from the response\n",
    "data=response['datatable']['data']"
   ]
  },
  {
   "cell_type": "code",
   "execution_count": 18,
   "metadata": {},
   "outputs": [],
   "source": [
    "# mapping the data to a list of lists since sklearn requires a 2D array\n",
    "def pull_price(n):\n",
    "    return [n[3]]\n",
    "# date must be converted to ordinal since its a numeric value which regression requires\n",
    "def pull_dates(n):\n",
    "    return [dt.datetime.strptime(n[2], '%Y-%m-%d').toordinal()]\n",
    "dates=list(map(pull_dates,data))\n",
    "prices=list(map(pull_price,data))"
   ]
  },
  {
   "cell_type": "code",
   "execution_count": 19,
   "metadata": {},
   "outputs": [
    {
     "data": {
      "text/plain": [
       "[[111073.0],\n",
       " [110703.0],\n",
       " [110204.0],\n",
       " [110755.0],\n",
       " [99569.0],\n",
       " [94674.0],\n",
       " [89296.0],\n",
       " [89119.0],\n",
       " [88816.0],\n",
       " [88696.0],\n",
       " [88370.0],\n",
       " [87342.0],\n",
       " [86732.0],\n",
       " [86252.0],\n",
       " [86410.0],\n",
       " [86290.0],\n",
       " [86228.0],\n",
       " [85511.0],\n",
       " [85081.0],\n",
       " [84640.0],\n",
       " [84847.0],\n",
       " [84764.0],\n",
       " [85185.0],\n",
       " [86309.0],\n",
       " [87144.0],\n",
       " [87316.0],\n",
       " [86547.0],\n",
       " [86848.0],\n",
       " [86983.0],\n",
       " [86756.0],\n",
       " [86203.0],\n",
       " [86296.0],\n",
       " [85823.0],\n",
       " [85278.0],\n",
       " [84433.0],\n",
       " [84003.0],\n",
       " [83128.0],\n",
       " [82858.0],\n",
       " [82541.0],\n",
       " [82279.0],\n",
       " [81647.0],\n",
       " [81805.0],\n",
       " [81498.0],\n",
       " [80826.0],\n",
       " [79748.0],\n",
       " [79117.0],\n",
       " [78367.0],\n",
       " [77738.0],\n",
       " [77183.0],\n",
       " [76982.0],\n",
       " [76999.0],\n",
       " [76601.0],\n",
       " [76465.0],\n",
       " [76535.0],\n",
       " [77026.0],\n",
       " [77276.0],\n",
       " [77383.0],\n",
       " [77378.0],\n",
       " [77417.0],\n",
       " [76922.0],\n",
       " [76483.0],\n",
       " [76070.0],\n",
       " [76229.0],\n",
       " [76221.0],\n",
       " [75842.0],\n",
       " [74879.0],\n",
       " [74372.0],\n",
       " [74202.0],\n",
       " [74519.0],\n",
       " [74614.0],\n",
       " [74601.0],\n",
       " [75212.0],\n",
       " [75866.0],\n",
       " [75854.0],\n",
       " [75199.0],\n",
       " [74702.0],\n",
       " [74690.0],\n",
       " [74891.0],\n",
       " [74483.0],\n",
       " [74380.0],\n",
       " [73957.0],\n",
       " [73673.0],\n",
       " [73371.0],\n",
       " [72837.0],\n",
       " [72526.0],\n",
       " [72192.0],\n",
       " [71427.0],\n",
       " [70924.0],\n",
       " [70476.0],\n",
       " [70286.0],\n",
       " [70562.0],\n",
       " [70207.0],\n",
       " [70389.0],\n",
       " [70272.0],\n",
       " [70451.0],\n",
       " [70628.0],\n",
       " [70596.0],\n",
       " [71051.0],\n",
       " [71628.0],\n",
       " [72242.0],\n",
       " [73081.0],\n",
       " [73491.0],\n",
       " [73408.0],\n",
       " [72937.0],\n",
       " [72809.0],\n",
       " [72819.0],\n",
       " [73069.0],\n",
       " [72874.0],\n",
       " [72487.0],\n",
       " [72416.0],\n",
       " [73139.0],\n",
       " [73619.0],\n",
       " [73434.0],\n",
       " [73107.0],\n",
       " [73330.0],\n",
       " [74105.0],\n",
       " [74373.0],\n",
       " [74851.0],\n",
       " [75010.0],\n",
       " [75469.0],\n",
       " [75840.0],\n",
       " [75898.0],\n",
       " [75793.0],\n",
       " [75805.0],\n",
       " [75065.0],\n",
       " [74542.0],\n",
       " [73863.0],\n",
       " [74038.0],\n",
       " [73964.0],\n",
       " [73829.0],\n",
       " [73507.0],\n",
       " [73428.0],\n",
       " [73555.0],\n",
       " [72770.0],\n",
       " [71519.0],\n",
       " [70223.0],\n",
       " [70326.0],\n",
       " [71094.0],\n",
       " [71659.0],\n",
       " [71792.0],\n",
       " [71662.0],\n",
       " [71610.0],\n",
       " [71772.0],\n",
       " [71698.0],\n",
       " [71533.0],\n",
       " [72122.0],\n",
       " [72957.0],\n",
       " [73782.0],\n",
       " [73963.0],\n",
       " [73555.0],\n",
       " [73279.0],\n",
       " [72844.0],\n",
       " [72876.0],\n",
       " [72884.0]]"
      ]
     },
     "execution_count": 19,
     "metadata": {},
     "output_type": "execute_result"
    }
   ],
   "source": [
    "#formatting the data to a numpy array \n",
    "y=np.array(prices)\n",
    "prices"
   ]
  },
  {
   "cell_type": "code",
   "execution_count": 20,
   "metadata": {},
   "outputs": [
    {
     "name": "stdout",
     "output_type": "stream",
     "text": [
      "['2021-01-19', '2021-02-19', '2021-03-19', '2021-04-19', '2021-05-19', '2021-06-19', '2021-07-19', '2021-08-19', '2021-09-19', '2021-10-19', '2021-11-19', '2021-12-19']\n"
     ]
    },
    {
     "data": {
      "text/plain": [
       "[[737809],\n",
       " [737840],\n",
       " [737868],\n",
       " [737899],\n",
       " [737929],\n",
       " [737960],\n",
       " [737990],\n",
       " [738021],\n",
       " [738052],\n",
       " [738082],\n",
       " [738113],\n",
       " [738143]]"
      ]
     },
     "execution_count": 20,
     "metadata": {},
     "output_type": "execute_result"
    }
   ],
   "source": [
    "# grabbing the latest date to be able to predict the next 12 months\n",
    "now=dt.datetime.now()\n",
    "# utility for adding months to a datetime object\n",
    "a_month = dateutil.relativedelta.relativedelta(months=1)\n",
    "# making 2 lists, one of the dates as strings, one as ordinals\n",
    "next_year_ord=[]\n",
    "next_year_strings=[]\n",
    "temp=now\n",
    "for i in range(12):\n",
    "    temp=temp+a_month\n",
    "    next_year_ord.append([temp.toordinal()])\n",
    "    next_year_strings.append(temp.strftime('%Y-%m-%d'))\n",
    "print(next_year_strings)\n",
    "next_year_ord"
   ]
  },
  {
   "cell_type": "code",
   "execution_count": 21,
   "metadata": {},
   "outputs": [
    {
     "data": {
      "text/plain": [
       "LinearRegression(copy_X=True, fit_intercept=True, n_jobs=None, normalize=False)"
      ]
     },
     "execution_count": 21,
     "metadata": {},
     "output_type": "execute_result"
    }
   ],
   "source": [
    "X_train, X_test, y_train, y_test = train_test_split(dates, y, random_state=42)\n",
    "model=LinearRegression()\n",
    "model.fit(X_train,y_train)"
   ]
  },
  {
   "cell_type": "code",
   "execution_count": 22,
   "metadata": {},
   "outputs": [
    {
     "name": "stdout",
     "output_type": "stream",
     "text": [
      "Mean Squared Error (MSE): 12157899.347671794\n",
      "R-squared (R2 ): 0.6648628389930243\n"
     ]
    }
   ],
   "source": [
    "predicted = model.predict(X_test)\n",
    "mse = mean_squared_error(y_test, predicted)\n",
    "r2 = r2_score(y_test, predicted)\n",
    "\n",
    "print(f\"Mean Squared Error (MSE): {mse}\")\n",
    "print(f\"R-squared (R2 ): {r2}\")"
   ]
  },
  {
   "cell_type": "code",
   "execution_count": 23,
   "metadata": {},
   "outputs": [
    {
     "data": {
      "text/plain": [
       "0.6648628389930243"
      ]
     },
     "execution_count": 23,
     "metadata": {},
     "output_type": "execute_result"
    }
   ],
   "source": [
    "model.score(X_test, y_test)"
   ]
  },
  {
   "cell_type": "code",
   "execution_count": 24,
   "metadata": {},
   "outputs": [
    {
     "data": {
      "text/plain": [
       "<matplotlib.legend.Legend at 0x7f9f4f5e0b10>"
      ]
     },
     "execution_count": 24,
     "metadata": {},
     "output_type": "execute_result"
    },
    {
     "data": {
      "image/png": "[encoded data removed]",
      "text/plain": [
       "<Figure size 432x288 with 1 Axes>"
      ]
     },
     "metadata": {
      "needs_background": "light"
     },
     "output_type": "display_data"
    }
   ],
   "source": [
    "plt.scatter(dates,prices,label='Data',color='blue')\n",
    "plt.plot(dates,model.predict(dates),label='regression',color='red')\n",
    "plt.legend(loc='lower right')"
   ]
  },
  {
   "cell_type": "code",
   "execution_count": 25,
   "metadata": {},
   "outputs": [
    {
     "data": {
      "text/plain": [
       "array([[89987.58469872],\n",
       "       [90138.71956234],\n",
       "       [90275.22847142],\n",
       "       [90426.36333504],\n",
       "       [90572.62288048],\n",
       "       [90723.7577441 ],\n",
       "       [90870.01728953],\n",
       "       [91021.15215315],\n",
       "       [91172.28701677],\n",
       "       [91318.54656221],\n",
       "       [91469.68142583],\n",
       "       [91615.94097127]])"
      ]
     },
     "execution_count": 25,
     "metadata": {},
     "output_type": "execute_result"
    }
   ],
   "source": [
    "# predicting the next year after the latest date\n",
    "predictions=model.predict(next_year_ord)\n",
    "predictions"
   ]
  },
  {
   "cell_type": "code",
   "execution_count": 26,
   "metadata": {},
   "outputs": [
    {
     "data": {
      "text/plain": [
       "{'2021-01-19': 89987.58469872177,\n",
       " '2021-02-19': 90138.71956234146,\n",
       " '2021-03-19': 90275.22847141745,\n",
       " '2021-04-19': 90426.36333503714,\n",
       " '2021-05-19': 90572.6228804756,\n",
       " '2021-06-19': 90723.75774409575,\n",
       " '2021-07-19': 90870.01728953421,\n",
       " '2021-08-19': 91021.1521531539,\n",
       " '2021-09-19': 91172.2870167736,\n",
       " '2021-10-19': 91318.54656221252,\n",
       " '2021-11-19': 91469.68142583221,\n",
       " '2021-12-19': 91615.94097127067}"
      ]
     },
     "execution_count": 26,
     "metadata": {},
     "output_type": "execute_result"
    }
   ],
   "source": [
    "to_return={}\n",
    "for i in range(len(predictions)):\n",
    "    to_return[next_year_strings[i]]=predictions[i][0]\n",
    "to_return"
   ]
  },
  {
   "cell_type": "code",
   "execution_count": null,
   "metadata": {},
   "outputs": [],
   "source": []
  },
  {
   "cell_type": "code",
   "execution_count": null,
   "metadata": {},
   "outputs": [],
   "source": []
  }
 ],
 "metadata": {
  "kernelspec": {
   "display_name": "Python 3",
   "language": "python",
   "name": "python3"
  },
  "language_info": {
   "codemirror_mode": {
    "name": "ipython",
    "version": 3
   },
   "file_extension": ".py",
   "mimetype": "text/x-python",
   "name": "python",
   "nbconvert_exporter": "python",
   "pygments_lexer": "ipython3",
   "version": "3.7.6"
  }
 },
 "nbformat": 4,
 "nbformat_minor": 4
}
