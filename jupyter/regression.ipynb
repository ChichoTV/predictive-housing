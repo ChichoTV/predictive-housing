{
 "cells": [
  {
   "cell_type": "code",
   "execution_count": 1,
   "metadata": {},
   "outputs": [],
   "source": [
    "from sklearn.linear_model import LinearRegression\n",
    "from sklearn.model_selection import train_test_split\n",
    "from sklearn.metrics import mean_squared_error, r2_score\n",
    "import numpy as np\n",
    "import requests\n",
    "import json\n",
    "import matplotlib.pyplot as plt\n",
    "import datetime as dt\n",
    "import dateutil"
   ]
  },
  {
   "cell_type": "code",
   "execution_count": 22,
   "metadata": {},
   "outputs": [],
   "source": [
    "# test api starting at the year 2000\n",
    "test_url='https://www.quandl.com/api/v3/datasets/ZILLOW/Z95932_ZHVISF?start_date=2015-01-01&api_key=sPG_jsHhtuegYcT7TNWz'\n",
    "response=requests.get(test_url).json()"
   ]
  },
  {
   "cell_type": "code",
   "execution_count": 34,
   "metadata": {},
   "outputs": [],
   "source": [
    "# grabbing the data from the response\n",
    "data=response['dataset']['data']"
   ]
  },
  {
   "cell_type": "code",
   "execution_count": 24,
   "metadata": {},
   "outputs": [],
   "source": [
    "# mapping the data to a list of lists since sklearn requires a 2D array\n",
    "def pull_price(n):\n",
    "    return [n[1]]\n",
    "# date must be converted to ordinal since its a numeric value which regression requires\n",
    "def pull_dates(n):\n",
    "    return [dt.datetime.strptime(n[0], '%Y-%m-%d').toordinal()]\n",
    "dates=list(map(pull_dates,data))\n",
    "prices=list(map(pull_price,data))"
   ]
  },
  {
   "cell_type": "code",
   "execution_count": 25,
   "metadata": {},
   "outputs": [],
   "source": [
    "#formatting the data to a numpy array \n",
    "y=np.array(prices)\n",
    "# prices"
   ]
  },
  {
   "cell_type": "code",
   "execution_count": 26,
   "metadata": {},
   "outputs": [
    {
     "name": "stdout",
     "output_type": "stream",
     "text": [
      "['2021-01-09', '2021-02-09', '2021-03-09', '2021-04-09', '2021-05-09', '2021-06-09', '2021-07-09', '2021-08-09', '2021-09-09', '2021-10-09', '2021-11-09', '2021-12-09']\n"
     ]
    },
    {
     "data": {
      "text/plain": [
       "[[737799],\n",
       " [737830],\n",
       " [737858],\n",
       " [737889],\n",
       " [737919],\n",
       " [737950],\n",
       " [737980],\n",
       " [738011],\n",
       " [738042],\n",
       " [738072],\n",
       " [738103],\n",
       " [738133]]"
      ]
     },
     "execution_count": 26,
     "metadata": {},
     "output_type": "execute_result"
    }
   ],
   "source": [
    "# grabbing the latest date to be able to predict the next 12 months\n",
    "now=dt.datetime.now()\n",
    "# utility for adding months to a datetime object\n",
    "a_month = dateutil.relativedelta.relativedelta(months=1)\n",
    "# making 2 lists, one of the dates as strings, one as ordinals\n",
    "next_year_ord=[]\n",
    "next_year_strings=[]\n",
    "temp=now\n",
    "for i in range(12):\n",
    "    temp=temp+a_month\n",
    "    next_year_ord.append([temp.toordinal()])\n",
    "    next_year_strings.append(temp.strftime('%Y-%m-%d'))\n",
    "print(next_year_strings)\n",
    "next_year_ord"
   ]
  },
  {
   "cell_type": "code",
   "execution_count": 27,
   "metadata": {},
   "outputs": [
    {
     "data": {
      "text/plain": [
       "LinearRegression(copy_X=True, fit_intercept=True, n_jobs=None, normalize=False)"
      ]
     },
     "execution_count": 27,
     "metadata": {},
     "output_type": "execute_result"
    }
   ],
   "source": [
    "X_train, X_test, y_train, y_test = train_test_split(dates, y, random_state=42)\n",
    "model=LinearRegression()\n",
    "model.fit(X_train,y_train)"
   ]
  },
  {
   "cell_type": "code",
   "execution_count": 28,
   "metadata": {},
   "outputs": [
    {
     "name": "stdout",
     "output_type": "stream",
     "text": [
      "Mean Squared Error (MSE): 27596880.285835557\n",
      "R-squared (R2 ): 0.8620688867908924\n"
     ]
    }
   ],
   "source": [
    "predicted = model.predict(X_test)\n",
    "mse = mean_squared_error(y_test, predicted)\n",
    "r2 = r2_score(y_test, predicted)\n",
    "\n",
    "print(f\"Mean Squared Error (MSE): {mse}\")\n",
    "print(f\"R-squared (R2 ): {r2}\")"
   ]
  },
  {
   "cell_type": "code",
   "execution_count": 29,
   "metadata": {},
   "outputs": [
    {
     "data": {
      "text/plain": [
       "0.8620688867908924"
      ]
     },
     "execution_count": 29,
     "metadata": {},
     "output_type": "execute_result"
    }
   ],
   "source": [
    "model.score(X_test, y_test)"
   ]
  },
  {
   "cell_type": "code",
   "execution_count": 30,
   "metadata": {},
   "outputs": [
    {
     "data": {
      "text/plain": [
       "<matplotlib.legend.Legend at 0x26d899c3ec8>"
      ]
     },
     "execution_count": 30,
     "metadata": {},
     "output_type": "execute_result"
    },
    {
     "data": {
      "image/png": "[encoded data removed]",
      "text/plain": [
       "<Figure size 432x288 with 1 Axes>"
      ]
     },
     "metadata": {
      "needs_background": "light"
     },
     "output_type": "display_data"
    }
   ],
   "source": [
    "plt.scatter(dates,prices,label='Data',color='blue')\n",
    "plt.plot(dates,model.predict(dates),label='regression',color='red')\n",
    "plt.legend(loc='lower right')"
   ]
  },
  {
   "cell_type": "code",
   "execution_count": 31,
   "metadata": {},
   "outputs": [
    {
     "data": {
      "text/plain": [
       "array([[257647.18141966],\n",
       "       [258372.53502779],\n",
       "       [259027.69312545],\n",
       "       [259753.04673358],\n",
       "       [260455.00183823],\n",
       "       [261180.35544636],\n",
       "       [261882.310551  ],\n",
       "       [262607.66415914],\n",
       "       [263333.01776727],\n",
       "       [264034.97287191],\n",
       "       [264760.32648004],\n",
       "       [265462.28158469]])"
      ]
     },
     "execution_count": 31,
     "metadata": {},
     "output_type": "execute_result"
    }
   ],
   "source": [
    "# predicting the next year after the latest date\n",
    "predictions=model.predict(next_year_ord)\n",
    "predictions"
   ]
  },
  {
   "cell_type": "code",
   "execution_count": 32,
   "metadata": {},
   "outputs": [
    {
     "data": {
      "text/plain": [
       "{'2021-01-09': 257647.18141965568,\n",
       " '2021-02-09': 258372.5350277871,\n",
       " '2021-03-09': 259027.69312545285,\n",
       " '2021-04-09': 259753.04673358425,\n",
       " '2021-05-09': 260455.0018382296,\n",
       " '2021-06-09': 261180.355446361,\n",
       " '2021-07-09': 261882.31055100262,\n",
       " '2021-08-09': 262607.66415913776,\n",
       " '2021-09-09': 263333.01776726916,\n",
       " '2021-10-09': 264034.9728719108,\n",
       " '2021-11-09': 264760.3264800422,\n",
       " '2021-12-09': 265462.28158468753}"
      ]
     },
     "execution_count": 32,
     "metadata": {},
     "output_type": "execute_result"
    }
   ],
   "source": [
    "to_return={}\n",
    "for i in range(len(predictions)):\n",
    "    to_return[next_year_strings[i]]=predictions[i][0]\n",
    "to_return"
   ]
  },
  {
   "cell_type": "code",
   "execution_count": null,
   "metadata": {},
   "outputs": [],
   "source": []
  },
  {
   "cell_type": "code",
   "execution_count": null,
   "metadata": {},
   "outputs": [],
   "source": []
  }
 ],
 "metadata": {
  "kernelspec": {
   "display_name": "Python 3",
   "language": "python",
   "name": "python3"
  },
  "language_info": {
   "codemirror_mode": {
    "name": "ipython",
    "version": 3
   },
   "file_extension": ".py",
   "mimetype": "text/x-python",
   "name": "python",
   "nbconvert_exporter": "python",
   "pygments_lexer": "ipython3",
   "version": "3.7.6"
  }
 },
 "nbformat": 4,
 "nbformat_minor": 4
}
