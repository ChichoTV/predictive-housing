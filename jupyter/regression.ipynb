{
 "cells": [
  {
   "cell_type": "code",
   "execution_count": 125,
   "metadata": {},
   "outputs": [],
   "source": [
    "from sklearn.linear_model import LinearRegression\n",
    "from sklearn.model_selection import train_test_split\n",
    "from sklearn.metrics import mean_squared_error, r2_score\n",
    "import numpy as np\n",
    "import requests\n",
    "import json\n",
    "import matplotlib.pyplot as plt\n",
    "import datetime as dt\n",
    "import dateutil"
   ]
  },
  {
   "cell_type": "code",
   "execution_count": 22,
   "metadata": {},
   "outputs": [],
   "source": [
    "# test api starting at the year 2000\n",
    "test_url='https://www.quandl.com/api/v3/datasets/ZILLOW/Z95973_ZHVISF?start_date=2000-01-01&api_key=sPG_jsHhtuegYcT7TNWz'\n",
    "response=requests.get(test_url).json()"
   ]
  },
  {
   "cell_type": "code",
   "execution_count": 126,
   "metadata": {},
   "outputs": [],
   "source": [
    "# grabbing the data from the response\n",
    "data=response['dataset']['data']\n",
    "# data"
   ]
  },
  {
   "cell_type": "code",
   "execution_count": 99,
   "metadata": {},
   "outputs": [],
   "source": [
    "# mapping the data to a list of lists since sklearn requires a 2D array\n",
    "def pull_price(n):\n",
    "    return [n[1]]\n",
    "# date must be converted to ordinal since its a numeric value which regression requires\n",
    "def pull_dates(n):\n",
    "    return [dt.datetime.strptime(n[0], '%Y-%m-%d').toordinal()]\n",
    "dates=list(map(pull_dates,data))\n",
    "prices=list(map(pull_price,data))"
   ]
  },
  {
   "cell_type": "code",
   "execution_count": 127,
   "metadata": {},
   "outputs": [],
   "source": [
    "#formatting the data to a numpy array \n",
    "y=np.array(prices)\n",
    "# prices"
   ]
  },
  {
   "cell_type": "code",
   "execution_count": 149,
   "metadata": {},
   "outputs": [
    {
     "data": {
      "text/plain": [
       "[[737545],\n",
       " [737575],\n",
       " [737606],\n",
       " [737636],\n",
       " [737667],\n",
       " [737698],\n",
       " [737728],\n",
       " [737759],\n",
       " [737789],\n",
       " [737820],\n",
       " [737849],\n",
       " [737877]]"
      ]
     },
     "execution_count": 149,
     "metadata": {},
     "output_type": "execute_result"
    }
   ],
   "source": [
    "# grabbing the latest date to be able to predict the next 12 months\n",
    "latest_date=dt.date.fromordinal(dates[0][0])\n",
    "# utility for adding months to a datetime object\n",
    "a_month = dateutil.relativedelta.relativedelta(months=1)\n",
    "# making 2 lists, one of the dates as strings, one as ordinals\n",
    "next_year_ord=[]\n",
    "next_year_strings=[]\n",
    "temp=latest_date\n",
    "for i in range(12):\n",
    "    temp=temp+a_month\n",
    "    next_year_ord.append([temp.toordinal()])\n",
    "    next_year_strings.append(temp.strftime('%Y-%m-%d'))\n",
    "next_year_ord"
   ]
  },
  {
   "cell_type": "code",
   "execution_count": 101,
   "metadata": {},
   "outputs": [
    {
     "data": {
      "text/plain": [
       "LinearRegression(copy_X=True, fit_intercept=True, n_jobs=None, normalize=False)"
      ]
     },
     "execution_count": 101,
     "metadata": {},
     "output_type": "execute_result"
    }
   ],
   "source": [
    "X_train, X_test, y_train, y_test = train_test_split(dates, y, random_state=42)\n",
    "model=LinearRegression()\n",
    "model.fit(X_train,y_train)"
   ]
  },
  {
   "cell_type": "code",
   "execution_count": 123,
   "metadata": {},
   "outputs": [
    {
     "name": "stdout",
     "output_type": "stream",
     "text": [
      "Mean Squared Error (MSE): 3366214515.976154\n",
      "R-squared (R2 ): 0.30036487522836397\n"
     ]
    }
   ],
   "source": [
    "predicted = model.predict(X_test)\n",
    "mse = mean_squared_error(y_test, predicted)\n",
    "r2 = r2_score(y_test, predicted)\n",
    "\n",
    "print(f\"Mean Squared Error (MSE): {mse}\")\n",
    "print(f\"R-squared (R2 ): {r2}\")"
   ]
  },
  {
   "cell_type": "code",
   "execution_count": 124,
   "metadata": {},
   "outputs": [
    {
     "data": {
      "text/plain": [
       "0.30036487522836397"
      ]
     },
     "execution_count": 124,
     "metadata": {},
     "output_type": "execute_result"
    }
   ],
   "source": [
    "model.score(X_test, y_test)"
   ]
  },
  {
   "cell_type": "code",
   "execution_count": 164,
   "metadata": {},
   "outputs": [
    {
     "data": {
      "text/plain": [
       "<matplotlib.legend.Legend at 0x174e33a08c8>"
      ]
     },
     "execution_count": 164,
     "metadata": {},
     "output_type": "execute_result"
    },
    {
     "data": {
      "image/png": "[encoded data removed]",
      "text/plain": [
       "<Figure size 432x288 with 1 Axes>"
      ]
     },
     "metadata": {
      "needs_background": "light"
     },
     "output_type": "display_data"
    }
   ],
   "source": [
    "plt.scatter(dates,prices,label='Data',color='blue')\n",
    "plt.plot(dates,model.predict(dates),label='regression',color='red')\n",
    "plt.legend(loc='lower right')"
   ]
  },
  {
   "cell_type": "code",
   "execution_count": 159,
   "metadata": {},
   "outputs": [
    {
     "data": {
      "text/plain": [
       "array([[372457.23504933],\n",
       "       [372955.23544117],\n",
       "       [373469.83584607],\n",
       "       [373967.83623791],\n",
       "       [374482.43664281],\n",
       "       [374997.03704771],\n",
       "       [375495.03743955],\n",
       "       [376009.63784445],\n",
       "       [376507.63823629],\n",
       "       [377022.23864119],\n",
       "       [377503.63901997],\n",
       "       [377968.43938569]])"
      ]
     },
     "execution_count": 159,
     "metadata": {},
     "output_type": "execute_result"
    }
   ],
   "source": [
    "# predicting the next year after the latest date\n",
    "predictions=model.predict(next_year_ord)\n",
    "predictions"
   ]
  },
  {
   "cell_type": "code",
   "execution_count": 157,
   "metadata": {},
   "outputs": [
    {
     "data": {
      "text/plain": [
       "{'2020-04-30': 372457.23504932784,\n",
       " '2020-05-30': 372955.23544116877,\n",
       " '2020-06-30': 373469.83584606834,\n",
       " '2020-07-30': 373967.8362379093,\n",
       " '2020-08-30': 374482.4366428107,\n",
       " '2020-09-30': 374997.03704771213,\n",
       " '2020-10-30': 375495.0374395512,\n",
       " '2020-11-30': 376009.63784445263,\n",
       " '2020-12-30': 376507.63823629357,\n",
       " '2021-01-30': 377022.23864119314,\n",
       " '2021-02-28': 377503.6390199736,\n",
       " '2021-03-28': 377968.4393856898}"
      ]
     },
     "execution_count": 157,
     "metadata": {},
     "output_type": "execute_result"
    }
   ],
   "source": [
    "to_return={}\n",
    "for i in range(len(predictions)):\n",
    "    to_return[next_year_strings[i]]=predictions[i][0]\n",
    "to_return"
   ]
  },
  {
   "cell_type": "code",
   "execution_count": null,
   "metadata": {},
   "outputs": [],
   "source": []
  },
  {
   "cell_type": "code",
   "execution_count": null,
   "metadata": {},
   "outputs": [],
   "source": []
  }
 ],
 "metadata": {
  "kernelspec": {
   "display_name": "Python 3.7.6 64-bit ('base': conda)",
   "language": "python",
   "name": "python37664bitbasecondaabd722cf7d644cb7a9e67a3e156c5d8a"
  },
  "language_info": {
   "codemirror_mode": {
    "name": "ipython",
    "version": 3
   },
   "file_extension": ".py",
   "mimetype": "text/x-python",
   "name": "python",
   "nbconvert_exporter": "python",
   "pygments_lexer": "ipython3",
   "version": "3.7.6"
  }
 },
 "nbformat": 4,
 "nbformat_minor": 4
}
