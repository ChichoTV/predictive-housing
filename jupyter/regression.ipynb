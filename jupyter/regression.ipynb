{
 "cells": [
  {
   "cell_type": "code",
   "execution_count": 1,
   "metadata": {},
   "outputs": [],
   "source": [
    "from sklearn.linear_model import LinearRegression\n",
    "from sklearn.model_selection import train_test_split\n",
    "from sklearn.metrics import mean_squared_error, r2_score\n",
    "import numpy as np\n",
    "import requests\n",
    "import json\n",
    "import matplotlib.pyplot as plt\n",
    "import datetime as dt\n",
    "import dateutil"
   ]
  },
  {
   "cell_type": "code",
   "execution_count": 2,
   "metadata": {},
   "outputs": [],
   "source": [
    "# test api starting at the year 2000\n",
    "test_url='https://www.quandl.com/api/v3/datasets/ZILLOW/Z95670_ZHVISF?start_date=2017-01-01&api_key=sPG_jsHhtuegYcT7TNWz'\n",
    "response=requests.get(test_url).json()"
   ]
  },
  {
   "cell_type": "code",
   "execution_count": 3,
   "metadata": {},
   "outputs": [],
   "source": [
    "# grabbing the data from the response\n",
    "data=response['dataset']['data']\n",
    "# data"
   ]
  },
  {
   "cell_type": "code",
   "execution_count": 4,
   "metadata": {},
   "outputs": [],
   "source": [
    "# mapping the data to a list of lists since sklearn requires a 2D array\n",
    "def pull_price(n):\n",
    "    return [n[1]]\n",
    "# date must be converted to ordinal since its a numeric value which regression requires\n",
    "def pull_dates(n):\n",
    "    return [dt.datetime.strptime(n[0], '%Y-%m-%d').toordinal()]\n",
    "dates=list(map(pull_dates,data))\n",
    "prices=list(map(pull_price,data))"
   ]
  },
  {
   "cell_type": "code",
   "execution_count": 5,
   "metadata": {},
   "outputs": [],
   "source": [
    "#formatting the data to a numpy array \n",
    "y=np.array(prices)\n",
    "# prices"
   ]
  },
  {
   "cell_type": "code",
   "execution_count": 11,
   "metadata": {},
   "outputs": [
    {
     "data": {
      "text/plain": [
       "[[737798],\n",
       " [737829],\n",
       " [737857],\n",
       " [737888],\n",
       " [737918],\n",
       " [737949],\n",
       " [737979],\n",
       " [738010],\n",
       " [738041],\n",
       " [738071],\n",
       " [738102],\n",
       " [738132]]"
      ]
     },
     "execution_count": 11,
     "metadata": {},
     "output_type": "execute_result"
    }
   ],
   "source": [
    "# grabbing the latest date to be able to predict the next 12 months\n",
    "now=dt.datetime.now()\n",
    "# utility for adding months to a datetime object\n",
    "a_month = dateutil.relativedelta.relativedelta(months=1)\n",
    "# making 2 lists, one of the dates as strings, one as ordinals\n",
    "next_year_ord=[]\n",
    "next_year_strings=[]\n",
    "temp=now\n",
    "for i in range(12):\n",
    "    temp=temp+a_month\n",
    "    next_year_ord.append([temp.toordinal()])\n",
    "    next_year_strings.append(temp.strftime('%Y-%m-%d'))\n",
    "next_year_ord"
   ]
  },
  {
   "cell_type": "code",
   "execution_count": 171,
   "metadata": {},
   "outputs": [
    {
     "data": {
      "text/plain": [
       "LinearRegression(copy_X=True, fit_intercept=True, n_jobs=None, normalize=False)"
      ]
     },
     "execution_count": 171,
     "metadata": {},
     "output_type": "execute_result"
    }
   ],
   "source": [
    "X_train, X_test, y_train, y_test = train_test_split(dates, y, random_state=42)\n",
    "model=LinearRegression()\n",
    "model.fit(X_train,y_train)"
   ]
  },
  {
   "cell_type": "code",
   "execution_count": 172,
   "metadata": {},
   "outputs": [
    {
     "name": "stdout",
     "output_type": "stream",
     "text": [
      "Mean Squared Error (MSE): 5865074239.254028\n",
      "R-squared (R2 ): 0.056277448706243405\n"
     ]
    }
   ],
   "source": [
    "predicted = model.predict(X_test)\n",
    "mse = mean_squared_error(y_test, predicted)\n",
    "r2 = r2_score(y_test, predicted)\n",
    "\n",
    "print(f\"Mean Squared Error (MSE): {mse}\")\n",
    "print(f\"R-squared (R2 ): {r2}\")"
   ]
  },
  {
   "cell_type": "code",
   "execution_count": 173,
   "metadata": {},
   "outputs": [
    {
     "data": {
      "text/plain": [
       "0.05627744870624341"
      ]
     },
     "execution_count": 173,
     "metadata": {},
     "output_type": "execute_result"
    }
   ],
   "source": [
    "model.score(X_test, y_test)"
   ]
  },
  {
   "cell_type": "code",
   "execution_count": 174,
   "metadata": {},
   "outputs": [
    {
     "data": {
      "text/plain": [
       "<matplotlib.legend.Legend at 0x174e3193948>"
      ]
     },
     "execution_count": 174,
     "metadata": {},
     "output_type": "execute_result"
    },
    {
     "data": {
      "image/png": "[encoded data removed]",
      "text/plain": [
       "<Figure size 432x288 with 1 Axes>"
      ]
     },
     "metadata": {
      "needs_background": "light"
     },
     "output_type": "display_data"
    }
   ],
   "source": [
    "plt.scatter(dates,prices,label='Data',color='blue')\n",
    "plt.plot(dates,model.predict(dates),label='regression',color='red')\n",
    "plt.legend(loc='lower right')"
   ]
  },
  {
   "cell_type": "code",
   "execution_count": 175,
   "metadata": {},
   "outputs": [
    {
     "data": {
      "text/plain": [
       "array([[301192.68044904],\n",
       "       [301436.8350984 ],\n",
       "       [301689.12823608],\n",
       "       [301933.28288545],\n",
       "       [302185.57602313],\n",
       "       [302437.86916081],\n",
       "       [302682.02381017],\n",
       "       [302934.31694785],\n",
       "       [303178.47159722],\n",
       "       [303430.7647349 ],\n",
       "       [303666.78089595],\n",
       "       [303894.65856869]])"
      ]
     },
     "execution_count": 175,
     "metadata": {},
     "output_type": "execute_result"
    }
   ],
   "source": [
    "# predicting the next year after the latest date\n",
    "predictions=model.predict(next_year_ord)\n",
    "predictions"
   ]
  },
  {
   "cell_type": "code",
   "execution_count": 176,
   "metadata": {},
   "outputs": [
    {
     "data": {
      "text/plain": [
       "{'2020-04-30': 301192.68044903874,\n",
       " '2020-05-30': 301436.83509840444,\n",
       " '2020-06-30': 301689.1282360833,\n",
       " '2020-07-30': 301933.282885449,\n",
       " '2020-08-30': 302185.5760231279,\n",
       " '2020-09-30': 302437.8691608058,\n",
       " '2020-10-30': 302682.02381017245,\n",
       " '2020-11-30': 302934.31694785133,\n",
       " '2020-12-30': 303178.471597217,\n",
       " '2021-01-30': 303430.7647348959,\n",
       " '2021-02-28': 303666.78089594934,\n",
       " '2021-03-28': 303894.65856869146}"
      ]
     },
     "execution_count": 176,
     "metadata": {},
     "output_type": "execute_result"
    }
   ],
   "source": [
    "to_return={}\n",
    "for i in range(len(predictions)):\n",
    "    to_return[next_year_strings[i]]=predictions[i][0]\n",
    "to_return"
   ]
  },
  {
   "cell_type": "code",
   "execution_count": null,
   "metadata": {},
   "outputs": [],
   "source": []
  },
  {
   "cell_type": "code",
   "execution_count": null,
   "metadata": {},
   "outputs": [],
   "source": []
  }
 ],
 "metadata": {
  "kernelspec": {
   "display_name": "Python 3.7.6 64-bit ('base': conda)",
   "language": "python",
   "name": "python37664bitbasecondaabd722cf7d644cb7a9e67a3e156c5d8a"
  },
  "language_info": {
   "codemirror_mode": {
    "name": "ipython",
    "version": 3
   },
   "file_extension": ".py",
   "mimetype": "text/x-python",
   "name": "python",
   "nbconvert_exporter": "python",
   "pygments_lexer": "ipython3",
   "version": "3.7.6"
  }
 },
 "nbformat": 4,
 "nbformat_minor": 4
}
